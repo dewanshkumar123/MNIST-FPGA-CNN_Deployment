{
  "nbformat": 4,
  "nbformat_minor": 0,
  "metadata": {
    "colab": {
      "provenance": [],
      "gpuType": "T4"
    },
    "kernelspec": {
      "name": "python3",
      "display_name": "Python 3"
    },
    "language_info": {
      "name": "python"
    },
    "accelerator": "GPU"
  },
  "cells": [
    {
      "cell_type": "code",
      "execution_count": null,
      "metadata": {
        "id": "CaC79FDnpI3I"
      },
      "outputs": [],
      "source": [
        "import numpy as np\n",
        "import torch\n",
        "import torch.nn as nn"
      ]
    },
    {
      "cell_type": "code",
      "source": [
        "model_path = '/content/drive/MyDrive/CNN_model_pth.pth'\n",
        "model = torch.load(model_path)\n",
        "model = torch.load(model_path, map_location=torch.device('cpu'))\n",
        "print(model.keys())\n",
        "\n",
        "print(model['conv1.weight'].shape)\n",
        "print(model['conv1.bias'].shape)\n",
        "print(model['fc1.weight'].shape)\n",
        "print(model['fc1.bias'].shape)\n",
        "print(model['fc2.weight'].shape)\n",
        "print(model['fc2.bias'].shape)"
      ],
      "metadata": {
        "colab": {
          "base_uri": "https://localhost:8080/"
        },
        "id": "9iTgJ1A3sI1m",
        "outputId": "d8004433-d613-496a-d366-974098773a57"
      },
      "execution_count": null,
      "outputs": [
        {
          "output_type": "stream",
          "name": "stdout",
          "text": [
            "odict_keys(['conv1.weight', 'conv1.bias', 'fc1.weight', 'fc1.bias', 'fc2.weight', 'fc2.bias'])\n",
            "torch.Size([32, 1, 3, 3])\n",
            "torch.Size([32])\n",
            "torch.Size([64, 5408])\n",
            "torch.Size([64])\n",
            "torch.Size([10, 64])\n",
            "torch.Size([10])\n"
          ]
        }
      ]
    },
    {
      "cell_type": "code",
      "source": [
        "model['conv1.weight'][0]"
      ],
      "metadata": {
        "colab": {
          "base_uri": "https://localhost:8080/"
        },
        "id": "qjvylVKT0uD1",
        "outputId": "cd5a6d07-0168-4edc-dfd4-5818eea41829"
      },
      "execution_count": null,
      "outputs": [
        {
          "output_type": "execute_result",
          "data": {
            "text/plain": [
              "tensor([[[ 0.2076,  0.2212,  0.1997],\n",
              "         [ 0.1345,  0.2045, -0.0268],\n",
              "         [ 0.3595,  0.1840,  0.0400]]])"
            ]
          },
          "metadata": {},
          "execution_count": 3
        }
      ]
    },
    {
      "cell_type": "code",
      "source": [
        "model['fc1.weight'][0]"
      ],
      "metadata": {
        "colab": {
          "base_uri": "https://localhost:8080/"
        },
        "id": "wTvYMQL42c0c",
        "outputId": "9cf3714f-2c56-40f4-dddd-5fef2b2ad2dc"
      },
      "execution_count": null,
      "outputs": [
        {
          "output_type": "execute_result",
          "data": {
            "text/plain": [
              "tensor([-0.0117,  0.0013, -0.0020,  ..., -0.0053,  0.0068,  0.0370])"
            ]
          },
          "metadata": {},
          "execution_count": 4
        }
      ]
    },
    {
      "cell_type": "code",
      "source": [
        "import numpy as np\n",
        "\n",
        "def conv2d(x, weight, bias, stride=1):\n",
        "    in_channels, _, filter_size, _ = weight.shape\n",
        "    _, height, width = x.shape\n",
        "\n",
        "    out_channels = weight.shape[0]\n",
        "    out_height = (height - filter_size) // stride + 1\n",
        "    out_width = (width - filter_size) // stride + 1\n",
        "\n",
        "    out = np.zeros((out_channels, out_height, out_width))\n",
        "\n",
        "    for k in range(out_channels):\n",
        "        for i in range(0, height - filter_size + 1, stride):\n",
        "            for j in range(0, width - filter_size + 1, stride):\n",
        "                out[k, i//stride, j//stride] = np.sum(x[:, i:i+filter_size, j:j+filter_size] * weight[k].numpy()) + bias[k].numpy()\n",
        "\n",
        "    return out\n",
        "\n",
        "def relu(x):\n",
        "    return np.maximum(x, 0)\n",
        "\n",
        "def max_pooling(x, pool_size=2):\n",
        "    channels, height, width = x.shape\n",
        "    out_height = height // pool_size\n",
        "    out_width = width // pool_size\n",
        "    out = np.zeros((channels, out_height, out_width))\n",
        "\n",
        "    for c in range(channels):\n",
        "        for i in range(0, height, pool_size):\n",
        "            for j in range(0, width, pool_size):\n",
        "                out[c, i//pool_size, j//pool_size] = np.max(x[c, i:i+pool_size, j:j+pool_size])\n",
        "\n",
        "    return out\n",
        "\n",
        "def fully_connected(X, W, b):\n",
        "    output_size = len(W)\n",
        "    Z = [0] * output_size\n",
        "    for i in range(output_size):\n",
        "        Z[i] = sum(X[j] * W[i][j] for j in range(len(X))) + b[i]\n",
        "    return Z\n",
        "\n"
      ],
      "metadata": {
        "id": "xg5nj4c9pPO_"
      },
      "execution_count": null,
      "outputs": []
    },
    {
      "cell_type": "code",
      "source": [
        "import torch\n",
        "from torchvision import datasets, transforms\n",
        "import matplotlib.pyplot as plt\n",
        "transform = transforms.Compose([transforms.ToTensor(), transforms.Normalize((0.5,), (0.5,))])\n",
        "mnist_data = datasets.MNIST(root='./data', train=False, download=True, transform=transform)\n",
        "\n",
        "idx = np.random.randint(len(mnist_data))\n",
        "image, label = mnist_data[idx]\n",
        "\n",
        "plt.imshow(image.squeeze(), cmap='gray')\n",
        "plt.title(f\"Label: {label}\")\n",
        "plt.show()\n",
        "image = image.numpy()\n",
        "\n",
        "#print(image)\n",
        "\n",
        "x = image\n",
        "x = conv2d(x, model['conv1.weight'], model['conv1.bias'])\n",
        "print(255*x)\n",
        "print(x.shape)\n",
        "x = relu(x)\n",
        "x = max_pooling(x)\n",
        "print(x.shape)\n",
        "x = x.flatten()\n",
        "print(x.shape)\n",
        "x = fully_connected(x, model['fc1.weight'], model['fc1.bias'])\n",
        "x = relu(x)\n",
        "print(x.shape)\n",
        "x = fully_connected(x, model['fc2.weight'], model['fc2.bias'])\n",
        "print(len(x))\n",
        "predicted_class = np.argmax(x)\n",
        "print(\"Predicted class:\", predicted_class)"
      ],
      "metadata": {
        "colab": {
          "base_uri": "https://localhost:8080/",
          "height": 1000
        },
        "id": "icHT8BnL644s",
        "outputId": "2de80d3c-1b17-4989-8cad-09b231145fb3"
      },
      "execution_count": null,
      "outputs": [
        {
          "output_type": "stream",
          "name": "stdout",
          "text": [
            "Downloading http://yann.lecun.com/exdb/mnist/train-images-idx3-ubyte.gz\n",
            "Downloading http://yann.lecun.com/exdb/mnist/train-images-idx3-ubyte.gz to ./data/MNIST/raw/train-images-idx3-ubyte.gz\n"
          ]
        },
        {
          "output_type": "stream",
          "name": "stderr",
          "text": [
            "100%|██████████| 9912422/9912422 [00:00<00:00, 161640486.78it/s]"
          ]
        },
        {
          "output_type": "stream",
          "name": "stdout",
          "text": [
            "Extracting ./data/MNIST/raw/train-images-idx3-ubyte.gz to ./data/MNIST/raw\n"
          ]
        },
        {
          "output_type": "stream",
          "name": "stderr",
          "text": [
            "\n"
          ]
        },
        {
          "output_type": "stream",
          "name": "stdout",
          "text": [
            "\n",
            "Downloading http://yann.lecun.com/exdb/mnist/train-labels-idx1-ubyte.gz\n",
            "Downloading http://yann.lecun.com/exdb/mnist/train-labels-idx1-ubyte.gz to ./data/MNIST/raw/train-labels-idx1-ubyte.gz\n"
          ]
        },
        {
          "output_type": "stream",
          "name": "stderr",
          "text": [
            "100%|██████████| 28881/28881 [00:00<00:00, 36464688.09it/s]\n"
          ]
        },
        {
          "output_type": "stream",
          "name": "stdout",
          "text": [
            "Extracting ./data/MNIST/raw/train-labels-idx1-ubyte.gz to ./data/MNIST/raw\n",
            "\n",
            "Downloading http://yann.lecun.com/exdb/mnist/t10k-images-idx3-ubyte.gz\n",
            "Downloading http://yann.lecun.com/exdb/mnist/t10k-images-idx3-ubyte.gz to ./data/MNIST/raw/t10k-images-idx3-ubyte.gz\n"
          ]
        },
        {
          "output_type": "stream",
          "name": "stderr",
          "text": [
            "100%|██████████| 1648877/1648877 [00:00<00:00, 48567335.19it/s]"
          ]
        },
        {
          "output_type": "stream",
          "name": "stdout",
          "text": [
            "Extracting ./data/MNIST/raw/t10k-images-idx3-ubyte.gz to ./data/MNIST/raw\n"
          ]
        },
        {
          "output_type": "stream",
          "name": "stderr",
          "text": [
            "\n"
          ]
        },
        {
          "output_type": "stream",
          "name": "stdout",
          "text": [
            "\n",
            "Downloading http://yann.lecun.com/exdb/mnist/t10k-labels-idx1-ubyte.gz\n",
            "Downloading http://yann.lecun.com/exdb/mnist/t10k-labels-idx1-ubyte.gz to ./data/MNIST/raw/t10k-labels-idx1-ubyte.gz\n"
          ]
        },
        {
          "output_type": "stream",
          "name": "stderr",
          "text": [
            "100%|██████████| 4542/4542 [00:00<00:00, 3870485.32it/s]"
          ]
        },
        {
          "output_type": "stream",
          "name": "stdout",
          "text": [
            "Extracting ./data/MNIST/raw/t10k-labels-idx1-ubyte.gz to ./data/MNIST/raw\n",
            "\n"
          ]
        },
        {
          "output_type": "stream",
          "name": "stderr",
          "text": [
            "\n"
          ]
        },
        {
          "output_type": "display_data",
          "data": {
            "text/plain": [
              "<Figure size 640x480 with 1 Axes>"
            ],
            "image/png": "[encoded data removed]"
          },
          "metadata": {}
        },
        {
          "output_type": "stream",
          "name": "stdout",
          "text": [
            "[[[-386.81510925 -386.81510925 -386.81510925 ... -386.81510925\n",
            "   -386.81510925 -386.81510925]\n",
            "  [-386.81510925 -386.81510925 -386.81510925 ... -386.81510925\n",
            "   -386.81510925 -386.81510925]\n",
            "  [-386.81510925 -386.81510925 -386.81510925 ... -386.81510925\n",
            "   -386.81510925 -386.81510925]\n",
            "  ...\n",
            "  [-386.81510925 -386.81510925 -386.81510925 ... -386.81510925\n",
            "   -386.81510925 -386.81510925]\n",
            "  [-386.81510925 -386.81510925 -386.81510925 ... -386.81510925\n",
            "   -386.81510925 -386.81510925]\n",
            "  [-386.81510925 -386.81510925 -386.81510925 ... -386.81510925\n",
            "   -386.81510925 -386.81510925]]\n",
            "\n",
            " [[-107.62593403 -107.62593403 -107.62593403 ... -107.62593403\n",
            "   -107.62593403 -107.62593403]\n",
            "  [-107.62593403 -107.62593403 -107.62593403 ... -107.62593403\n",
            "   -107.62593403 -107.62593403]\n",
            "  [-107.62593403 -107.62593403 -107.62593403 ... -107.62593403\n",
            "   -107.62593403 -107.62593403]\n",
            "  ...\n",
            "  [-107.62593403 -107.62593403 -107.62593403 ... -107.62593403\n",
            "   -107.62593403 -107.62593403]\n",
            "  [-107.62593403 -107.62593403 -107.62593403 ... -107.62593403\n",
            "   -107.62593403 -107.62593403]\n",
            "  [-107.62593403 -107.62593403 -107.62593403 ... -107.62593403\n",
            "   -107.62593403 -107.62593403]]\n",
            "\n",
            " [[-239.5731014  -239.5731014  -239.5731014  ... -239.5731014\n",
            "   -239.5731014  -239.5731014 ]\n",
            "  [-239.5731014  -239.5731014  -239.5731014  ... -239.5731014\n",
            "   -239.5731014  -239.5731014 ]\n",
            "  [-239.5731014  -239.5731014  -239.5731014  ... -239.5731014\n",
            "   -239.5731014  -239.5731014 ]\n",
            "  ...\n",
            "  [-239.5731014  -239.5731014  -239.5731014  ... -239.5731014\n",
            "   -239.5731014  -239.5731014 ]\n",
            "  [-239.5731014  -239.5731014  -239.5731014  ... -239.5731014\n",
            "   -239.5731014  -239.5731014 ]\n",
            "  [-239.5731014  -239.5731014  -239.5731014  ... -239.5731014\n",
            "   -239.5731014  -239.5731014 ]]\n",
            "\n",
            " ...\n",
            "\n",
            " [[-481.70720458 -481.70720458 -481.70720458 ... -481.70720458\n",
            "   -481.70720458 -481.70720458]\n",
            "  [-481.70720458 -481.70720458 -481.70720458 ... -481.70720458\n",
            "   -481.70720458 -481.70720458]\n",
            "  [-481.70720458 -481.70720458 -481.70720458 ... -481.70720458\n",
            "   -481.70720458 -481.70720458]\n",
            "  ...\n",
            "  [-481.70720458 -481.70720458 -481.70720458 ... -481.70720458\n",
            "   -481.70720458 -481.70720458]\n",
            "  [-481.70720458 -481.70720458 -481.70720458 ... -481.70720458\n",
            "   -481.70720458 -481.70720458]\n",
            "  [-481.70720458 -481.70720458 -481.70720458 ... -481.70720458\n",
            "   -481.70720458 -481.70720458]]\n",
            "\n",
            " [[ -14.0161217   -14.0161217   -14.0161217  ...  -14.0161217\n",
            "    -14.0161217   -14.0161217 ]\n",
            "  [ -14.0161217   -14.0161217   -14.0161217  ...  -14.0161217\n",
            "    -14.0161217   -14.0161217 ]\n",
            "  [ -14.0161217   -14.0161217   -14.0161217  ...  -14.0161217\n",
            "    -14.0161217   -14.0161217 ]\n",
            "  ...\n",
            "  [ -14.0161217   -14.0161217   -14.0161217  ...  -14.0161217\n",
            "    -14.0161217   -14.0161217 ]\n",
            "  [ -14.0161217   -14.0161217   -14.0161217  ...  -14.0161217\n",
            "    -14.0161217   -14.0161217 ]\n",
            "  [ -14.0161217   -14.0161217   -14.0161217  ...  -14.0161217\n",
            "    -14.0161217   -14.0161217 ]]\n",
            "\n",
            " [[-121.33585677 -121.33585677 -121.33585677 ... -121.33585677\n",
            "   -121.33585677 -121.33585677]\n",
            "  [-121.33585677 -121.33585677 -121.33585677 ... -121.33585677\n",
            "   -121.33585677 -121.33585677]\n",
            "  [-121.33585677 -121.33585677 -121.33585677 ... -121.33585677\n",
            "   -121.33585677 -121.33585677]\n",
            "  ...\n",
            "  [-121.33585677 -121.33585677 -121.33585677 ... -121.33585677\n",
            "   -121.33585677 -121.33585677]\n",
            "  [-121.33585677 -121.33585677 -121.33585677 ... -121.33585677\n",
            "   -121.33585677 -121.33585677]\n",
            "  [-121.33585677 -121.33585677 -121.33585677 ... -121.33585677\n",
            "   -121.33585677 -121.33585677]]]\n",
            "(32, 26, 26)\n",
            "(32, 13, 13)\n",
            "(5408,)\n",
            "(64,)\n",
            "10\n",
            "Predicted class: 2\n"
          ]
        }
      ]
    }
  ]
}